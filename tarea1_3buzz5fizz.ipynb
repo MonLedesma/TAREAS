{
  "nbformat": 4,
  "nbformat_minor": 0,
  "metadata": {
    "colab": {
      "name": "Untitled0.ipynb",
      "provenance": [],
      "authorship_tag": "ABX9TyO7eH+JWOVyRxdr5BrF/gEI",
      "include_colab_link": true
    },
    "kernelspec": {
      "name": "python3",
      "display_name": "Python 3"
    },
    "language_info": {
      "name": "python"
    }
  },
  "cells": [
    {
      "cell_type": "markdown",
      "metadata": {
        "id": "view-in-github",
        "colab_type": "text"
      },
      "source": [
        "<a href=\"https://colab.research.google.com/github/MonLedesma/TAREAS/blob/MONICA-LEDESMA-MOTILINIA/tarea1_3buzz5fizz.ipynb\" target=\"_parent\"><img src=\"https://colab.research.google.com/assets/colab-badge.svg\" alt=\"Open In Colab\"/></a>"
      ]
    },
    {
      "cell_type": "code",
      "execution_count": 1,
      "metadata": {
        "colab": {
          "base_uri": "https://localhost:8080/"
        },
        "id": "QltKecfvwcfM",
        "outputId": "cfb58ab9-d561-4368-cf35-25dcc82ad7ef"
      },
      "outputs": [
        {
          "output_type": "stream",
          "name": "stdout",
          "text": [
            "Buzz\n",
            "fizz\n",
            "7\n",
            "8\n",
            "fizz\n",
            "Buzz\n",
            "11\n",
            "fizz\n",
            "13\n",
            "14\n"
          ]
        }
      ],
      "source": [
        "#Mónica Ledesma \n",
        "#Tarea: Ejercicio Fizzbuzz\n",
        "\n",
        "#Valores iniciales\n",
        "ini= 5\n",
        "fin=15\n",
        "tres=\"fizz\" \n",
        "cinco=\"Buzz\"\n",
        "\n",
        "#Palabras que sustituyen si es divisible entre 3 o 5 por fizz o buzz, respectivamente\n",
        "for i in range(ini,fin):\n",
        "  if i%3 == 0 and i%5 == 0 : \n",
        "    print(tres+\" \"+cinco)\n",
        "  elif  i%3 == 0:\n",
        "        print(tres)\n",
        "  elif  i%5 == 0:\n",
        "        print(cinco)\n",
        "  else :\n",
        "    print(i)"
      ]
    }
  ]
}